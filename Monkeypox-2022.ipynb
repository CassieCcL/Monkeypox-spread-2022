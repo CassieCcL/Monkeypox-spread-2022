{
 "cells": [
  {
   "cell_type": "code",
   "execution_count": 1,
   "id": "b5efe788-3b5f-453c-ae1d-eb6c4aade1be",
   "metadata": {},
   "outputs": [],
   "source": [
    "import pandas as pd\n",
    "import matplotlib.pyplot as plt\n",
    "import seaborn as sns\n",
    "import numpy as np\n",
    "import plotly.express as px\n",
    "from datetime import datetime"
   ]
  },
  {
   "cell_type": "code",
   "execution_count": 2,
   "id": "e3be5c14-1a7a-4883-a71e-b950319ac0d1",
   "metadata": {},
   "outputs": [],
   "source": [
    "country_ccases = pd.read_csv(\"Resources/Daily_Country_Wise_Confirmed_Cases.csv\")\n",
    "world_cases = pd.read_csv(\"Resources/Monkey_Pox_Cases_Worldwide.csv\")\n",
    "World_timeline = pd.read_csv(\"Resources/Worldwide_Case_Detection_Timeline.csv\")\n"
   ]
  },
  {
   "cell_type": "code",
   "execution_count": 3,
   "id": "94607d49-36a7-4559-bc20-9b918e4765b6",
   "metadata": {},
   "outputs": [],
   "source": [
    "#Data Cleaning"
   ]
  },
  {
   "cell_type": "code",
   "execution_count": 4,
   "id": "3e102b59-529a-4fbe-b99f-46a59bef909d",
   "metadata": {},
   "outputs": [
    {
     "data": {
      "text/html": [
       "<div>\n",
       "<style scoped>\n",
       "    .dataframe tbody tr th:only-of-type {\n",
       "        vertical-align: middle;\n",
       "    }\n",
       "\n",
       "    .dataframe tbody tr th {\n",
       "        vertical-align: top;\n",
       "    }\n",
       "\n",
       "    .dataframe thead th {\n",
       "        text-align: right;\n",
       "    }\n",
       "</style>\n",
       "<table border=\"1\" class=\"dataframe\">\n",
       "  <thead>\n",
       "    <tr style=\"text-align: right;\">\n",
       "      <th></th>\n",
       "      <th>2022-05-06</th>\n",
       "      <th>2022-05-12</th>\n",
       "      <th>2022-05-13</th>\n",
       "      <th>2022-05-15</th>\n",
       "      <th>2022-05-17</th>\n",
       "      <th>2022-05-18</th>\n",
       "      <th>2022-05-19</th>\n",
       "      <th>2022-05-20</th>\n",
       "      <th>2022-05-21</th>\n",
       "      <th>2022-05-23</th>\n",
       "      <th>...</th>\n",
       "      <th>2022-05-26</th>\n",
       "      <th>2022-05-27</th>\n",
       "      <th>2022-05-28</th>\n",
       "      <th>2022-05-29</th>\n",
       "      <th>2022-05-30</th>\n",
       "      <th>2022-05-31</th>\n",
       "      <th>2022-06-01</th>\n",
       "      <th>2022-06-02</th>\n",
       "      <th>2022-06-03</th>\n",
       "      <th>2022-06-04</th>\n",
       "    </tr>\n",
       "  </thead>\n",
       "  <tbody>\n",
       "    <tr>\n",
       "      <th>count</th>\n",
       "      <td>32.000000</td>\n",
       "      <td>32.000000</td>\n",
       "      <td>32.000000</td>\n",
       "      <td>32.000000</td>\n",
       "      <td>32.00000</td>\n",
       "      <td>32.000000</td>\n",
       "      <td>32.000000</td>\n",
       "      <td>32.00000</td>\n",
       "      <td>32.000000</td>\n",
       "      <td>32.000000</td>\n",
       "      <td>...</td>\n",
       "      <td>32.000000</td>\n",
       "      <td>32.000000</td>\n",
       "      <td>32.000000</td>\n",
       "      <td>32.000000</td>\n",
       "      <td>32.000000</td>\n",
       "      <td>32.000000</td>\n",
       "      <td>32.000000</td>\n",
       "      <td>32.000000</td>\n",
       "      <td>32.000000</td>\n",
       "      <td>32.000000</td>\n",
       "    </tr>\n",
       "    <tr>\n",
       "      <th>mean</th>\n",
       "      <td>0.031250</td>\n",
       "      <td>0.031250</td>\n",
       "      <td>0.031250</td>\n",
       "      <td>0.125000</td>\n",
       "      <td>0.09375</td>\n",
       "      <td>0.656250</td>\n",
       "      <td>0.500000</td>\n",
       "      <td>1.43750</td>\n",
       "      <td>0.500000</td>\n",
       "      <td>2.281250</td>\n",
       "      <td>...</td>\n",
       "      <td>2.750000</td>\n",
       "      <td>1.593750</td>\n",
       "      <td>0.500000</td>\n",
       "      <td>0.468750</td>\n",
       "      <td>3.843750</td>\n",
       "      <td>2.062500</td>\n",
       "      <td>2.593750</td>\n",
       "      <td>3.906250</td>\n",
       "      <td>2.843750</td>\n",
       "      <td>0.031250</td>\n",
       "    </tr>\n",
       "    <tr>\n",
       "      <th>std</th>\n",
       "      <td>0.176777</td>\n",
       "      <td>0.176777</td>\n",
       "      <td>0.176777</td>\n",
       "      <td>0.707107</td>\n",
       "      <td>0.53033</td>\n",
       "      <td>2.280483</td>\n",
       "      <td>1.626395</td>\n",
       "      <td>4.42819</td>\n",
       "      <td>1.796053</td>\n",
       "      <td>6.849697</td>\n",
       "      <td>...</td>\n",
       "      <td>6.278483</td>\n",
       "      <td>4.641047</td>\n",
       "      <td>1.665591</td>\n",
       "      <td>1.684548</td>\n",
       "      <td>13.107765</td>\n",
       "      <td>4.825587</td>\n",
       "      <td>6.241688</td>\n",
       "      <td>7.441641</td>\n",
       "      <td>6.096585</td>\n",
       "      <td>0.176777</td>\n",
       "    </tr>\n",
       "    <tr>\n",
       "      <th>min</th>\n",
       "      <td>0.000000</td>\n",
       "      <td>0.000000</td>\n",
       "      <td>0.000000</td>\n",
       "      <td>0.000000</td>\n",
       "      <td>0.00000</td>\n",
       "      <td>0.000000</td>\n",
       "      <td>0.000000</td>\n",
       "      <td>0.00000</td>\n",
       "      <td>0.000000</td>\n",
       "      <td>0.000000</td>\n",
       "      <td>...</td>\n",
       "      <td>0.000000</td>\n",
       "      <td>0.000000</td>\n",
       "      <td>0.000000</td>\n",
       "      <td>0.000000</td>\n",
       "      <td>0.000000</td>\n",
       "      <td>0.000000</td>\n",
       "      <td>0.000000</td>\n",
       "      <td>0.000000</td>\n",
       "      <td>0.000000</td>\n",
       "      <td>0.000000</td>\n",
       "    </tr>\n",
       "    <tr>\n",
       "      <th>25%</th>\n",
       "      <td>0.000000</td>\n",
       "      <td>0.000000</td>\n",
       "      <td>0.000000</td>\n",
       "      <td>0.000000</td>\n",
       "      <td>0.00000</td>\n",
       "      <td>0.000000</td>\n",
       "      <td>0.000000</td>\n",
       "      <td>0.00000</td>\n",
       "      <td>0.000000</td>\n",
       "      <td>0.000000</td>\n",
       "      <td>...</td>\n",
       "      <td>0.000000</td>\n",
       "      <td>0.000000</td>\n",
       "      <td>0.000000</td>\n",
       "      <td>0.000000</td>\n",
       "      <td>0.000000</td>\n",
       "      <td>0.000000</td>\n",
       "      <td>0.000000</td>\n",
       "      <td>0.000000</td>\n",
       "      <td>0.000000</td>\n",
       "      <td>0.000000</td>\n",
       "    </tr>\n",
       "    <tr>\n",
       "      <th>50%</th>\n",
       "      <td>0.000000</td>\n",
       "      <td>0.000000</td>\n",
       "      <td>0.000000</td>\n",
       "      <td>0.000000</td>\n",
       "      <td>0.00000</td>\n",
       "      <td>0.000000</td>\n",
       "      <td>0.000000</td>\n",
       "      <td>0.00000</td>\n",
       "      <td>0.000000</td>\n",
       "      <td>0.000000</td>\n",
       "      <td>...</td>\n",
       "      <td>0.000000</td>\n",
       "      <td>0.000000</td>\n",
       "      <td>0.000000</td>\n",
       "      <td>0.000000</td>\n",
       "      <td>0.000000</td>\n",
       "      <td>0.000000</td>\n",
       "      <td>0.000000</td>\n",
       "      <td>0.000000</td>\n",
       "      <td>0.000000</td>\n",
       "      <td>0.000000</td>\n",
       "    </tr>\n",
       "    <tr>\n",
       "      <th>75%</th>\n",
       "      <td>0.000000</td>\n",
       "      <td>0.000000</td>\n",
       "      <td>0.000000</td>\n",
       "      <td>0.000000</td>\n",
       "      <td>0.00000</td>\n",
       "      <td>0.000000</td>\n",
       "      <td>0.000000</td>\n",
       "      <td>1.00000</td>\n",
       "      <td>0.000000</td>\n",
       "      <td>1.000000</td>\n",
       "      <td>...</td>\n",
       "      <td>2.000000</td>\n",
       "      <td>0.250000</td>\n",
       "      <td>0.000000</td>\n",
       "      <td>0.000000</td>\n",
       "      <td>1.000000</td>\n",
       "      <td>1.000000</td>\n",
       "      <td>1.250000</td>\n",
       "      <td>2.000000</td>\n",
       "      <td>3.000000</td>\n",
       "      <td>0.000000</td>\n",
       "    </tr>\n",
       "    <tr>\n",
       "      <th>max</th>\n",
       "      <td>1.000000</td>\n",
       "      <td>1.000000</td>\n",
       "      <td>1.000000</td>\n",
       "      <td>4.000000</td>\n",
       "      <td>3.00000</td>\n",
       "      <td>11.000000</td>\n",
       "      <td>9.000000</td>\n",
       "      <td>23.00000</td>\n",
       "      <td>10.000000</td>\n",
       "      <td>36.000000</td>\n",
       "      <td>...</td>\n",
       "      <td>25.000000</td>\n",
       "      <td>21.000000</td>\n",
       "      <td>9.000000</td>\n",
       "      <td>9.000000</td>\n",
       "      <td>71.000000</td>\n",
       "      <td>20.000000</td>\n",
       "      <td>27.000000</td>\n",
       "      <td>26.000000</td>\n",
       "      <td>27.000000</td>\n",
       "      <td>1.000000</td>\n",
       "    </tr>\n",
       "  </tbody>\n",
       "</table>\n",
       "<p>8 rows × 22 columns</p>\n",
       "</div>"
      ],
      "text/plain": [
       "       2022-05-06  2022-05-12  2022-05-13  2022-05-15  2022-05-17  2022-05-18  \\\n",
       "count   32.000000   32.000000   32.000000   32.000000    32.00000   32.000000   \n",
       "mean     0.031250    0.031250    0.031250    0.125000     0.09375    0.656250   \n",
       "std      0.176777    0.176777    0.176777    0.707107     0.53033    2.280483   \n",
       "min      0.000000    0.000000    0.000000    0.000000     0.00000    0.000000   \n",
       "25%      0.000000    0.000000    0.000000    0.000000     0.00000    0.000000   \n",
       "50%      0.000000    0.000000    0.000000    0.000000     0.00000    0.000000   \n",
       "75%      0.000000    0.000000    0.000000    0.000000     0.00000    0.000000   \n",
       "max      1.000000    1.000000    1.000000    4.000000     3.00000   11.000000   \n",
       "\n",
       "       2022-05-19  2022-05-20  2022-05-21  2022-05-23  ...  2022-05-26  \\\n",
       "count   32.000000    32.00000   32.000000   32.000000  ...   32.000000   \n",
       "mean     0.500000     1.43750    0.500000    2.281250  ...    2.750000   \n",
       "std      1.626395     4.42819    1.796053    6.849697  ...    6.278483   \n",
       "min      0.000000     0.00000    0.000000    0.000000  ...    0.000000   \n",
       "25%      0.000000     0.00000    0.000000    0.000000  ...    0.000000   \n",
       "50%      0.000000     0.00000    0.000000    0.000000  ...    0.000000   \n",
       "75%      0.000000     1.00000    0.000000    1.000000  ...    2.000000   \n",
       "max      9.000000    23.00000   10.000000   36.000000  ...   25.000000   \n",
       "\n",
       "       2022-05-27  2022-05-28  2022-05-29  2022-05-30  2022-05-31  2022-06-01  \\\n",
       "count   32.000000   32.000000   32.000000   32.000000   32.000000   32.000000   \n",
       "mean     1.593750    0.500000    0.468750    3.843750    2.062500    2.593750   \n",
       "std      4.641047    1.665591    1.684548   13.107765    4.825587    6.241688   \n",
       "min      0.000000    0.000000    0.000000    0.000000    0.000000    0.000000   \n",
       "25%      0.000000    0.000000    0.000000    0.000000    0.000000    0.000000   \n",
       "50%      0.000000    0.000000    0.000000    0.000000    0.000000    0.000000   \n",
       "75%      0.250000    0.000000    0.000000    1.000000    1.000000    1.250000   \n",
       "max     21.000000    9.000000    9.000000   71.000000   20.000000   27.000000   \n",
       "\n",
       "       2022-06-02  2022-06-03  2022-06-04  \n",
       "count   32.000000   32.000000   32.000000  \n",
       "mean     3.906250    2.843750    0.031250  \n",
       "std      7.441641    6.096585    0.176777  \n",
       "min      0.000000    0.000000    0.000000  \n",
       "25%      0.000000    0.000000    0.000000  \n",
       "50%      0.000000    0.000000    0.000000  \n",
       "75%      2.000000    3.000000    0.000000  \n",
       "max     26.000000   27.000000    1.000000  \n",
       "\n",
       "[8 rows x 22 columns]"
      ]
     },
     "execution_count": 4,
     "metadata": {},
     "output_type": "execute_result"
    }
   ],
   "source": [
    "country_ccases.describe()"
   ]
  },
  {
   "cell_type": "code",
   "execution_count": null,
   "id": "90ed5460-4e2f-434a-84fb-98e94c60c33c",
   "metadata": {},
   "outputs": [],
   "source": []
  },
  {
   "cell_type": "code",
   "execution_count": null,
   "id": "5c93c15c-8248-44eb-bb2b-09c4e115ab62",
   "metadata": {},
   "outputs": [],
   "source": []
  },
  {
   "cell_type": "code",
   "execution_count": 6,
   "id": "02eee0a7-a673-43b7-8414-652555f3a8dd",
   "metadata": {},
   "outputs": [
    {
     "name": "stdout",
     "output_type": "stream",
     "text": [
      "[datetime.date(2022, 5, 6), datetime.date(2022, 5, 12), datetime.date(2022, 5, 13), datetime.date(2022, 5, 15), datetime.date(2022, 5, 17), datetime.date(2022, 5, 18), datetime.date(2022, 5, 19), datetime.date(2022, 5, 20), datetime.date(2022, 5, 21), datetime.date(2022, 5, 23), datetime.date(2022, 5, 24), datetime.date(2022, 5, 25), datetime.date(2022, 5, 26), datetime.date(2022, 5, 27), datetime.date(2022, 5, 28), datetime.date(2022, 5, 29), datetime.date(2022, 5, 30), datetime.date(2022, 5, 31), datetime.date(2022, 6, 1), datetime.date(2022, 6, 2), datetime.date(2022, 6, 3), datetime.date(2022, 6, 4)]\n"
     ]
    }
   ],
   "source": [
    "# Top 5 increasing speed\n",
    "dates = list(country_ccases.columns)\n",
    "dates = dates[1:]\n",
    "datelist = [datetime.strptime(date, \"%Y-%m-%d\").date() for date in dates]\n",
    "print(datelist)\n",
    "# Known the dates are in order, hence use the last day to minus the first date\n",
    "dayspassed = (datelist[-1] - datelist[0]).days\n"
   ]
  },
  {
   "cell_type": "code",
   "execution_count": 7,
   "id": "8dc9415d-1b84-46e6-b582-d76a54f320a4",
   "metadata": {},
   "outputs": [],
   "source": [
    "# Calculate the totals for each country\n",
    "country_ccases[\"Total\"] = country_ccases.sum(axis = 1)\n",
    "country_ccases[\"Increasing Speed (cases/day)\"] = country_ccases[\"Total\"]/dayspassed"
   ]
  },
  {
   "cell_type": "code",
   "execution_count": 8,
   "id": "df00a1b9-a1c6-40d7-a736-de1f45a33e58",
   "metadata": {},
   "outputs": [
    {
     "data": {
      "text/html": [
       "<div>\n",
       "<style scoped>\n",
       "    .dataframe tbody tr th:only-of-type {\n",
       "        vertical-align: middle;\n",
       "    }\n",
       "\n",
       "    .dataframe tbody tr th {\n",
       "        vertical-align: top;\n",
       "    }\n",
       "\n",
       "    .dataframe thead th {\n",
       "        text-align: right;\n",
       "    }\n",
       "</style>\n",
       "<table border=\"1\" class=\"dataframe\">\n",
       "  <thead>\n",
       "    <tr style=\"text-align: right;\">\n",
       "      <th></th>\n",
       "      <th>Country</th>\n",
       "      <th>2022-05-06</th>\n",
       "      <th>2022-05-12</th>\n",
       "      <th>2022-05-13</th>\n",
       "      <th>2022-05-15</th>\n",
       "      <th>2022-05-17</th>\n",
       "      <th>2022-05-18</th>\n",
       "      <th>2022-05-19</th>\n",
       "      <th>2022-05-20</th>\n",
       "      <th>2022-05-21</th>\n",
       "      <th>...</th>\n",
       "      <th>2022-05-28</th>\n",
       "      <th>2022-05-29</th>\n",
       "      <th>2022-05-30</th>\n",
       "      <th>2022-05-31</th>\n",
       "      <th>2022-06-01</th>\n",
       "      <th>2022-06-02</th>\n",
       "      <th>2022-06-03</th>\n",
       "      <th>2022-06-04</th>\n",
       "      <th>Total</th>\n",
       "      <th>Increasing Speed (cases/day)</th>\n",
       "    </tr>\n",
       "  </thead>\n",
       "  <tbody>\n",
       "    <tr>\n",
       "      <th>0</th>\n",
       "      <td>England</td>\n",
       "      <td>1</td>\n",
       "      <td>1</td>\n",
       "      <td>1</td>\n",
       "      <td>4</td>\n",
       "      <td>0</td>\n",
       "      <td>2</td>\n",
       "      <td>0</td>\n",
       "      <td>11</td>\n",
       "      <td>0</td>\n",
       "      <td>...</td>\n",
       "      <td>0</td>\n",
       "      <td>0</td>\n",
       "      <td>71</td>\n",
       "      <td>11</td>\n",
       "      <td>5</td>\n",
       "      <td>11</td>\n",
       "      <td>15</td>\n",
       "      <td>0</td>\n",
       "      <td>214</td>\n",
       "      <td>7.379310</td>\n",
       "    </tr>\n",
       "    <tr>\n",
       "      <th>2</th>\n",
       "      <td>Spain</td>\n",
       "      <td>0</td>\n",
       "      <td>0</td>\n",
       "      <td>0</td>\n",
       "      <td>0</td>\n",
       "      <td>0</td>\n",
       "      <td>7</td>\n",
       "      <td>0</td>\n",
       "      <td>23</td>\n",
       "      <td>10</td>\n",
       "      <td>...</td>\n",
       "      <td>0</td>\n",
       "      <td>9</td>\n",
       "      <td>8</td>\n",
       "      <td>20</td>\n",
       "      <td>0</td>\n",
       "      <td>26</td>\n",
       "      <td>27</td>\n",
       "      <td>0</td>\n",
       "      <td>189</td>\n",
       "      <td>6.517241</td>\n",
       "    </tr>\n",
       "    <tr>\n",
       "      <th>1</th>\n",
       "      <td>Portugal</td>\n",
       "      <td>0</td>\n",
       "      <td>0</td>\n",
       "      <td>0</td>\n",
       "      <td>0</td>\n",
       "      <td>3</td>\n",
       "      <td>11</td>\n",
       "      <td>9</td>\n",
       "      <td>0</td>\n",
       "      <td>0</td>\n",
       "      <td>...</td>\n",
       "      <td>0</td>\n",
       "      <td>0</td>\n",
       "      <td>22</td>\n",
       "      <td>4</td>\n",
       "      <td>19</td>\n",
       "      <td>19</td>\n",
       "      <td>5</td>\n",
       "      <td>0</td>\n",
       "      <td>143</td>\n",
       "      <td>4.931034</td>\n",
       "    </tr>\n",
       "    <tr>\n",
       "      <th>4</th>\n",
       "      <td>Canada</td>\n",
       "      <td>0</td>\n",
       "      <td>0</td>\n",
       "      <td>0</td>\n",
       "      <td>0</td>\n",
       "      <td>0</td>\n",
       "      <td>0</td>\n",
       "      <td>2</td>\n",
       "      <td>3</td>\n",
       "      <td>0</td>\n",
       "      <td>...</td>\n",
       "      <td>0</td>\n",
       "      <td>0</td>\n",
       "      <td>0</td>\n",
       "      <td>1</td>\n",
       "      <td>27</td>\n",
       "      <td>23</td>\n",
       "      <td>3</td>\n",
       "      <td>0</td>\n",
       "      <td>80</td>\n",
       "      <td>2.758621</td>\n",
       "    </tr>\n",
       "    <tr>\n",
       "      <th>9</th>\n",
       "      <td>Germany</td>\n",
       "      <td>0</td>\n",
       "      <td>0</td>\n",
       "      <td>0</td>\n",
       "      <td>0</td>\n",
       "      <td>0</td>\n",
       "      <td>0</td>\n",
       "      <td>1</td>\n",
       "      <td>1</td>\n",
       "      <td>2</td>\n",
       "      <td>...</td>\n",
       "      <td>1</td>\n",
       "      <td>0</td>\n",
       "      <td>3</td>\n",
       "      <td>16</td>\n",
       "      <td>0</td>\n",
       "      <td>17</td>\n",
       "      <td>8</td>\n",
       "      <td>0</td>\n",
       "      <td>66</td>\n",
       "      <td>2.275862</td>\n",
       "    </tr>\n",
       "  </tbody>\n",
       "</table>\n",
       "<p>5 rows × 25 columns</p>\n",
       "</div>"
      ],
      "text/plain": [
       "    Country  2022-05-06  2022-05-12  2022-05-13  2022-05-15  2022-05-17  \\\n",
       "0   England           1           1           1           4           0   \n",
       "2     Spain           0           0           0           0           0   \n",
       "1  Portugal           0           0           0           0           3   \n",
       "4    Canada           0           0           0           0           0   \n",
       "9   Germany           0           0           0           0           0   \n",
       "\n",
       "   2022-05-18  2022-05-19  2022-05-20  2022-05-21  ...  2022-05-28  \\\n",
       "0           2           0          11           0  ...           0   \n",
       "2           7           0          23          10  ...           0   \n",
       "1          11           9           0           0  ...           0   \n",
       "4           0           2           3           0  ...           0   \n",
       "9           0           1           1           2  ...           1   \n",
       "\n",
       "   2022-05-29  2022-05-30  2022-05-31  2022-06-01  2022-06-02  2022-06-03  \\\n",
       "0           0          71          11           5          11          15   \n",
       "2           9           8          20           0          26          27   \n",
       "1           0          22           4          19          19           5   \n",
       "4           0           0           1          27          23           3   \n",
       "9           0           3          16           0          17           8   \n",
       "\n",
       "   2022-06-04  Total  Increasing Speed (cases/day)  \n",
       "0           0    214                      7.379310  \n",
       "2           0    189                      6.517241  \n",
       "1           0    143                      4.931034  \n",
       "4           0     80                      2.758621  \n",
       "9           0     66                      2.275862  \n",
       "\n",
       "[5 rows x 25 columns]"
      ]
     },
     "execution_count": 8,
     "metadata": {},
     "output_type": "execute_result"
    }
   ],
   "source": [
    "country_ccases.sort_values(by=[\"Increasing Speed (cases/day)\"], ascending = False, inplace=True)\n",
    "country_ccases.head()"
   ]
  },
  {
   "cell_type": "code",
   "execution_count": 9,
   "id": "908080e2-52be-4fa8-aba3-75ef657b5c1a",
   "metadata": {},
   "outputs": [
    {
     "data": {
      "text/html": [
       "<style  type=\"text/css\" >\n",
       "#T_354f4_row0_col1,#T_354f4_row0_col3,#T_354f4_row2_col2{\n",
       "            background-color:  #08306b;\n",
       "            color:  #f1f1f1;\n",
       "        }#T_354f4_row0_col2,#T_354f4_row1_col2,#T_354f4_row5_col2,#T_354f4_row7_col2,#T_354f4_row8_col2,#T_354f4_row10_col2,#T_354f4_row11_col2,#T_354f4_row12_col2,#T_354f4_row13_col2,#T_354f4_row14_col1,#T_354f4_row14_col2,#T_354f4_row14_col3,#T_354f4_row15_col2,#T_354f4_row16_col2,#T_354f4_row17_col2,#T_354f4_row18_col2,#T_354f4_row19_col2,#T_354f4_row20_col2,#T_354f4_row21_col2,#T_354f4_row22_col2,#T_354f4_row23_col2,#T_354f4_row24_col2,#T_354f4_row25_col2,#T_354f4_row26_col1,#T_354f4_row26_col3,#T_354f4_row27_col1,#T_354f4_row27_col3,#T_354f4_row28_col1,#T_354f4_row28_col3,#T_354f4_row29_col1,#T_354f4_row29_col2,#T_354f4_row29_col3,#T_354f4_row30_col2,#T_354f4_row31_col2,#T_354f4_row32_col2,#T_354f4_row33_col1,#T_354f4_row33_col3,#T_354f4_row34_col1,#T_354f4_row34_col3,#T_354f4_row35_col1,#T_354f4_row35_col2,#T_354f4_row35_col3,#T_354f4_row36_col1,#T_354f4_row36_col2,#T_354f4_row36_col3,#T_354f4_row37_col1,#T_354f4_row37_col3,#T_354f4_row38_col1,#T_354f4_row38_col2,#T_354f4_row38_col3,#T_354f4_row39_col2,#T_354f4_row40_col2,#T_354f4_row41_col1,#T_354f4_row41_col3,#T_354f4_row42_col1,#T_354f4_row42_col3,#T_354f4_row43_col2,#T_354f4_row44_col1,#T_354f4_row44_col3,#T_354f4_row45_col1,#T_354f4_row45_col3,#T_354f4_row46_col1,#T_354f4_row46_col3,#T_354f4_row47_col2,#T_354f4_row48_col1,#T_354f4_row48_col2,#T_354f4_row48_col3,#T_354f4_row49_col1,#T_354f4_row49_col3{\n",
       "            background-color:  #f7fbff;\n",
       "            color:  #000000;\n",
       "        }#T_354f4_row1_col1,#T_354f4_row1_col3{\n",
       "            background-color:  #3686c0;\n",
       "            color:  #000000;\n",
       "        }#T_354f4_row2_col1,#T_354f4_row2_col3{\n",
       "            background-color:  #084e98;\n",
       "            color:  #f1f1f1;\n",
       "        }#T_354f4_row3_col1{\n",
       "            background-color:  #deebf7;\n",
       "            color:  #000000;\n",
       "        }#T_354f4_row3_col2,#T_354f4_row9_col1,#T_354f4_row9_col2,#T_354f4_row9_col3,#T_354f4_row21_col1,#T_354f4_row21_col3,#T_354f4_row26_col2,#T_354f4_row31_col1,#T_354f4_row31_col3,#T_354f4_row33_col2,#T_354f4_row41_col2,#T_354f4_row42_col2,#T_354f4_row45_col2,#T_354f4_row49_col2{\n",
       "            background-color:  #f2f7fd;\n",
       "            color:  #000000;\n",
       "        }#T_354f4_row3_col3{\n",
       "            background-color:  #dfebf7;\n",
       "            color:  #000000;\n",
       "        }#T_354f4_row4_col1,#T_354f4_row4_col3{\n",
       "            background-color:  #9fcae1;\n",
       "            color:  #000000;\n",
       "        }#T_354f4_row4_col2{\n",
       "            background-color:  #d0e1f2;\n",
       "            color:  #000000;\n",
       "        }#T_354f4_row5_col1,#T_354f4_row5_col3{\n",
       "            background-color:  #f3f8fe;\n",
       "            color:  #000000;\n",
       "        }#T_354f4_row6_col1,#T_354f4_row6_col3{\n",
       "            background-color:  #e3eef8;\n",
       "            color:  #000000;\n",
       "        }#T_354f4_row6_col2,#T_354f4_row34_col2{\n",
       "            background-color:  #ecf4fb;\n",
       "            color:  #000000;\n",
       "        }#T_354f4_row7_col1,#T_354f4_row7_col3{\n",
       "            background-color:  #c8dcf0;\n",
       "            color:  #000000;\n",
       "        }#T_354f4_row8_col1,#T_354f4_row8_col3{\n",
       "            background-color:  #e7f1fa;\n",
       "            color:  #000000;\n",
       "        }#T_354f4_row10_col1,#T_354f4_row10_col3{\n",
       "            background-color:  #b4d3e9;\n",
       "            color:  #000000;\n",
       "        }#T_354f4_row11_col1,#T_354f4_row11_col3{\n",
       "            background-color:  #d3e3f3;\n",
       "            color:  #000000;\n",
       "        }#T_354f4_row12_col1,#T_354f4_row12_col3,#T_354f4_row16_col1,#T_354f4_row16_col3,#T_354f4_row17_col1,#T_354f4_row17_col3,#T_354f4_row23_col1,#T_354f4_row23_col3,#T_354f4_row24_col1,#T_354f4_row24_col3,#T_354f4_row25_col1,#T_354f4_row25_col3,#T_354f4_row40_col1,#T_354f4_row40_col3{\n",
       "            background-color:  #f5fafe;\n",
       "            color:  #000000;\n",
       "        }#T_354f4_row13_col1,#T_354f4_row13_col3,#T_354f4_row20_col1,#T_354f4_row20_col3,#T_354f4_row22_col1,#T_354f4_row22_col3{\n",
       "            background-color:  #f0f6fd;\n",
       "            color:  #000000;\n",
       "        }#T_354f4_row15_col1,#T_354f4_row15_col3,#T_354f4_row18_col1,#T_354f4_row18_col3,#T_354f4_row30_col1,#T_354f4_row30_col3,#T_354f4_row32_col1,#T_354f4_row32_col3,#T_354f4_row39_col1,#T_354f4_row39_col3,#T_354f4_row43_col1,#T_354f4_row43_col3,#T_354f4_row47_col1,#T_354f4_row47_col3{\n",
       "            background-color:  #f6faff;\n",
       "            color:  #000000;\n",
       "        }#T_354f4_row19_col1,#T_354f4_row19_col3{\n",
       "            background-color:  #f5f9fe;\n",
       "            color:  #000000;\n",
       "        }#T_354f4_row27_col2,#T_354f4_row28_col2,#T_354f4_row44_col2{\n",
       "            background-color:  #e7f0fa;\n",
       "            color:  #000000;\n",
       "        }#T_354f4_row37_col2,#T_354f4_row46_col2{\n",
       "            background-color:  #e0ecf8;\n",
       "            color:  #000000;\n",
       "        }</style><table id=\"T_354f4_\" ><thead>    <tr>        <th class=\"blank level0\" ></th>        <th class=\"col_heading level0 col0\" >Country</th>        <th class=\"col_heading level0 col1\" >Confirmed_Cases</th>        <th class=\"col_heading level0 col2\" >Suspected_Cases</th>        <th class=\"col_heading level0 col3\" >Increasing Speed (cases/day)</th>    </tr></thead><tbody>\n",
       "                <tr>\n",
       "                        <th id=\"T_354f4_level0_row0\" class=\"row_heading level0 row0\" >0</th>\n",
       "                        <td id=\"T_354f4_row0_col0\" class=\"data row0 col0\" >England</td>\n",
       "                        <td id=\"T_354f4_row0_col1\" class=\"data row0 col1\" >214.000000</td>\n",
       "                        <td id=\"T_354f4_row0_col2\" class=\"data row0 col2\" >0.000000</td>\n",
       "                        <td id=\"T_354f4_row0_col3\" class=\"data row0 col3\" >7.379310</td>\n",
       "            </tr>\n",
       "            <tr>\n",
       "                        <th id=\"T_354f4_level0_row1\" class=\"row_heading level0 row1\" >1</th>\n",
       "                        <td id=\"T_354f4_row1_col0\" class=\"data row1 col0\" >Portugal</td>\n",
       "                        <td id=\"T_354f4_row1_col1\" class=\"data row1 col1\" >143.000000</td>\n",
       "                        <td id=\"T_354f4_row1_col2\" class=\"data row1 col2\" >0.000000</td>\n",
       "                        <td id=\"T_354f4_row1_col3\" class=\"data row1 col3\" >4.931034</td>\n",
       "            </tr>\n",
       "            <tr>\n",
       "                        <th id=\"T_354f4_level0_row2\" class=\"row_heading level0 row2\" >2</th>\n",
       "                        <td id=\"T_354f4_row2_col0\" class=\"data row2 col0\" >Spain</td>\n",
       "                        <td id=\"T_354f4_row2_col1\" class=\"data row2 col1\" >189.000000</td>\n",
       "                        <td id=\"T_354f4_row2_col2\" class=\"data row2 col2\" >35.000000</td>\n",
       "                        <td id=\"T_354f4_row2_col3\" class=\"data row2 col3\" >6.517241</td>\n",
       "            </tr>\n",
       "            <tr>\n",
       "                        <th id=\"T_354f4_level0_row3\" class=\"row_heading level0 row3\" >3</th>\n",
       "                        <td id=\"T_354f4_row3_col0\" class=\"data row3 col0\" >United States</td>\n",
       "                        <td id=\"T_354f4_row3_col1\" class=\"data row3 col1\" >27.000000</td>\n",
       "                        <td id=\"T_354f4_row3_col2\" class=\"data row3 col2\" >1.000000</td>\n",
       "                        <td id=\"T_354f4_row3_col3\" class=\"data row3 col3\" >0.896552</td>\n",
       "            </tr>\n",
       "            <tr>\n",
       "                        <th id=\"T_354f4_level0_row4\" class=\"row_heading level0 row4\" >4</th>\n",
       "                        <td id=\"T_354f4_row4_col0\" class=\"data row4 col0\" >Canada</td>\n",
       "                        <td id=\"T_354f4_row4_col1\" class=\"data row4 col1\" >80.000000</td>\n",
       "                        <td id=\"T_354f4_row4_col2\" class=\"data row4 col2\" >7.000000</td>\n",
       "                        <td id=\"T_354f4_row4_col3\" class=\"data row4 col3\" >2.758621</td>\n",
       "            </tr>\n",
       "            <tr>\n",
       "                        <th id=\"T_354f4_level0_row5\" class=\"row_heading level0 row5\" >5</th>\n",
       "                        <td id=\"T_354f4_row5_col0\" class=\"data row5 col0\" >Sweden</td>\n",
       "                        <td id=\"T_354f4_row5_col1\" class=\"data row5 col1\" >5.000000</td>\n",
       "                        <td id=\"T_354f4_row5_col2\" class=\"data row5 col2\" >0.000000</td>\n",
       "                        <td id=\"T_354f4_row5_col3\" class=\"data row5 col3\" >0.172414</td>\n",
       "            </tr>\n",
       "            <tr>\n",
       "                        <th id=\"T_354f4_level0_row6\" class=\"row_heading level0 row6\" >6</th>\n",
       "                        <td id=\"T_354f4_row6_col0\" class=\"data row6 col0\" >Italy</td>\n",
       "                        <td id=\"T_354f4_row6_col1\" class=\"data row6 col1\" >22.000000</td>\n",
       "                        <td id=\"T_354f4_row6_col2\" class=\"data row6 col2\" >2.000000</td>\n",
       "                        <td id=\"T_354f4_row6_col3\" class=\"data row6 col3\" >0.758621</td>\n",
       "            </tr>\n",
       "            <tr>\n",
       "                        <th id=\"T_354f4_level0_row7\" class=\"row_heading level0 row7\" >7</th>\n",
       "                        <td id=\"T_354f4_row7_col0\" class=\"data row7 col0\" >France</td>\n",
       "                        <td id=\"T_354f4_row7_col1\" class=\"data row7 col1\" >51.000000</td>\n",
       "                        <td id=\"T_354f4_row7_col2\" class=\"data row7 col2\" >0.000000</td>\n",
       "                        <td id=\"T_354f4_row7_col3\" class=\"data row7 col3\" >1.758621</td>\n",
       "            </tr>\n",
       "            <tr>\n",
       "                        <th id=\"T_354f4_level0_row8\" class=\"row_heading level0 row8\" >8</th>\n",
       "                        <td id=\"T_354f4_row8_col0\" class=\"data row8 col0\" >Belgium</td>\n",
       "                        <td id=\"T_354f4_row8_col1\" class=\"data row8 col1\" >17.000000</td>\n",
       "                        <td id=\"T_354f4_row8_col2\" class=\"data row8 col2\" >0.000000</td>\n",
       "                        <td id=\"T_354f4_row8_col3\" class=\"data row8 col3\" >0.586207</td>\n",
       "            </tr>\n",
       "            <tr>\n",
       "                        <th id=\"T_354f4_level0_row9\" class=\"row_heading level0 row9\" >9</th>\n",
       "                        <td id=\"T_354f4_row9_col0\" class=\"data row9 col0\" >Australia</td>\n",
       "                        <td id=\"T_354f4_row9_col1\" class=\"data row9 col1\" >6.000000</td>\n",
       "                        <td id=\"T_354f4_row9_col2\" class=\"data row9 col2\" >1.000000</td>\n",
       "                        <td id=\"T_354f4_row9_col3\" class=\"data row9 col3\" >0.206897</td>\n",
       "            </tr>\n",
       "            <tr>\n",
       "                        <th id=\"T_354f4_level0_row10\" class=\"row_heading level0 row10\" >10</th>\n",
       "                        <td id=\"T_354f4_row10_col0\" class=\"data row10 col0\" >Germany</td>\n",
       "                        <td id=\"T_354f4_row10_col1\" class=\"data row10 col1\" >66.000000</td>\n",
       "                        <td id=\"T_354f4_row10_col2\" class=\"data row10 col2\" >0.000000</td>\n",
       "                        <td id=\"T_354f4_row10_col3\" class=\"data row10 col3\" >2.275862</td>\n",
       "            </tr>\n",
       "            <tr>\n",
       "                        <th id=\"T_354f4_level0_row11\" class=\"row_heading level0 row11\" >11</th>\n",
       "                        <td id=\"T_354f4_row11_col0\" class=\"data row11 col0\" >Netherlands</td>\n",
       "                        <td id=\"T_354f4_row11_col1\" class=\"data row11 col1\" >40.000000</td>\n",
       "                        <td id=\"T_354f4_row11_col2\" class=\"data row11 col2\" >0.000000</td>\n",
       "                        <td id=\"T_354f4_row11_col3\" class=\"data row11 col3\" >1.379310</td>\n",
       "            </tr>\n",
       "            <tr>\n",
       "                        <th id=\"T_354f4_level0_row12\" class=\"row_heading level0 row12\" >12</th>\n",
       "                        <td id=\"T_354f4_row12_col0\" class=\"data row12 col0\" >Israel</td>\n",
       "                        <td id=\"T_354f4_row12_col1\" class=\"data row12 col1\" >2.000000</td>\n",
       "                        <td id=\"T_354f4_row12_col2\" class=\"data row12 col2\" >0.000000</td>\n",
       "                        <td id=\"T_354f4_row12_col3\" class=\"data row12 col3\" >0.068966</td>\n",
       "            </tr>\n",
       "            <tr>\n",
       "                        <th id=\"T_354f4_level0_row13\" class=\"row_heading level0 row13\" >13</th>\n",
       "                        <td id=\"T_354f4_row13_col0\" class=\"data row13 col0\" >Switzerland</td>\n",
       "                        <td id=\"T_354f4_row13_col1\" class=\"data row13 col1\" >8.000000</td>\n",
       "                        <td id=\"T_354f4_row13_col2\" class=\"data row13 col2\" >0.000000</td>\n",
       "                        <td id=\"T_354f4_row13_col3\" class=\"data row13 col3\" >0.275862</td>\n",
       "            </tr>\n",
       "            <tr>\n",
       "                        <th id=\"T_354f4_level0_row14\" class=\"row_heading level0 row14\" >14</th>\n",
       "                        <td id=\"T_354f4_row14_col0\" class=\"data row14 col0\" >Greece</td>\n",
       "                        <td id=\"T_354f4_row14_col1\" class=\"data row14 col1\" >0.000000</td>\n",
       "                        <td id=\"T_354f4_row14_col2\" class=\"data row14 col2\" >0.000000</td>\n",
       "                        <td id=\"T_354f4_row14_col3\" class=\"data row14 col3\" >0.000000</td>\n",
       "            </tr>\n",
       "            <tr>\n",
       "                        <th id=\"T_354f4_level0_row15\" class=\"row_heading level0 row15\" >15</th>\n",
       "                        <td id=\"T_354f4_row15_col0\" class=\"data row15 col0\" >Austria</td>\n",
       "                        <td id=\"T_354f4_row15_col1\" class=\"data row15 col1\" >1.000000</td>\n",
       "                        <td id=\"T_354f4_row15_col2\" class=\"data row15 col2\" >0.000000</td>\n",
       "                        <td id=\"T_354f4_row15_col3\" class=\"data row15 col3\" >0.034483</td>\n",
       "            </tr>\n",
       "            <tr>\n",
       "                        <th id=\"T_354f4_level0_row16\" class=\"row_heading level0 row16\" >16</th>\n",
       "                        <td id=\"T_354f4_row16_col0\" class=\"data row16 col0\" >Argentina</td>\n",
       "                        <td id=\"T_354f4_row16_col1\" class=\"data row16 col1\" >2.000000</td>\n",
       "                        <td id=\"T_354f4_row16_col2\" class=\"data row16 col2\" >0.000000</td>\n",
       "                        <td id=\"T_354f4_row16_col3\" class=\"data row16 col3\" >0.068966</td>\n",
       "            </tr>\n",
       "            <tr>\n",
       "                        <th id=\"T_354f4_level0_row17\" class=\"row_heading level0 row17\" >17</th>\n",
       "                        <td id=\"T_354f4_row17_col0\" class=\"data row17 col0\" >Denmark</td>\n",
       "                        <td id=\"T_354f4_row17_col1\" class=\"data row17 col1\" >2.000000</td>\n",
       "                        <td id=\"T_354f4_row17_col2\" class=\"data row17 col2\" >0.000000</td>\n",
       "                        <td id=\"T_354f4_row17_col3\" class=\"data row17 col3\" >0.068966</td>\n",
       "            </tr>\n",
       "            <tr>\n",
       "                        <th id=\"T_354f4_level0_row18\" class=\"row_heading level0 row18\" >18</th>\n",
       "                        <td id=\"T_354f4_row18_col0\" class=\"data row18 col0\" >Morocco</td>\n",
       "                        <td id=\"T_354f4_row18_col1\" class=\"data row18 col1\" >1.000000</td>\n",
       "                        <td id=\"T_354f4_row18_col2\" class=\"data row18 col2\" >0.000000</td>\n",
       "                        <td id=\"T_354f4_row18_col3\" class=\"data row18 col3\" >0.034483</td>\n",
       "            </tr>\n",
       "            <tr>\n",
       "                        <th id=\"T_354f4_level0_row19\" class=\"row_heading level0 row19\" >19</th>\n",
       "                        <td id=\"T_354f4_row19_col0\" class=\"data row19 col0\" >Slovenia</td>\n",
       "                        <td id=\"T_354f4_row19_col1\" class=\"data row19 col1\" >3.000000</td>\n",
       "                        <td id=\"T_354f4_row19_col2\" class=\"data row19 col2\" >0.000000</td>\n",
       "                        <td id=\"T_354f4_row19_col3\" class=\"data row19 col3\" >0.103448</td>\n",
       "            </tr>\n",
       "            <tr>\n",
       "                        <th id=\"T_354f4_level0_row20\" class=\"row_heading level0 row20\" >20</th>\n",
       "                        <td id=\"T_354f4_row20_col0\" class=\"data row20 col0\" >Scotland</td>\n",
       "                        <td id=\"T_354f4_row20_col1\" class=\"data row20 col1\" >8.000000</td>\n",
       "                        <td id=\"T_354f4_row20_col2\" class=\"data row20 col2\" >0.000000</td>\n",
       "                        <td id=\"T_354f4_row20_col3\" class=\"data row20 col3\" >0.275862</td>\n",
       "            </tr>\n",
       "            <tr>\n",
       "                        <th id=\"T_354f4_level0_row21\" class=\"row_heading level0 row21\" >21</th>\n",
       "                        <td id=\"T_354f4_row21_col0\" class=\"data row21 col0\" >Czech Republic</td>\n",
       "                        <td id=\"T_354f4_row21_col1\" class=\"data row21 col1\" >6.000000</td>\n",
       "                        <td id=\"T_354f4_row21_col2\" class=\"data row21 col2\" >0.000000</td>\n",
       "                        <td id=\"T_354f4_row21_col3\" class=\"data row21 col3\" >0.206897</td>\n",
       "            </tr>\n",
       "            <tr>\n",
       "                        <th id=\"T_354f4_level0_row22\" class=\"row_heading level0 row22\" >22</th>\n",
       "                        <td id=\"T_354f4_row22_col0\" class=\"data row22 col0\" >United Arab Emirates</td>\n",
       "                        <td id=\"T_354f4_row22_col1\" class=\"data row22 col1\" >8.000000</td>\n",
       "                        <td id=\"T_354f4_row22_col2\" class=\"data row22 col2\" >0.000000</td>\n",
       "                        <td id=\"T_354f4_row22_col3\" class=\"data row22 col3\" >0.275862</td>\n",
       "            </tr>\n",
       "            <tr>\n",
       "                        <th id=\"T_354f4_level0_row23\" class=\"row_heading level0 row23\" >23</th>\n",
       "                        <td id=\"T_354f4_row23_col0\" class=\"data row23 col0\" >Finland</td>\n",
       "                        <td id=\"T_354f4_row23_col1\" class=\"data row23 col1\" >2.000000</td>\n",
       "                        <td id=\"T_354f4_row23_col2\" class=\"data row23 col2\" >0.000000</td>\n",
       "                        <td id=\"T_354f4_row23_col3\" class=\"data row23 col3\" >0.068966</td>\n",
       "            </tr>\n",
       "            <tr>\n",
       "                        <th id=\"T_354f4_level0_row24\" class=\"row_heading level0 row24\" >24</th>\n",
       "                        <td id=\"T_354f4_row24_col0\" class=\"data row24 col0\" >Wales</td>\n",
       "                        <td id=\"T_354f4_row24_col1\" class=\"data row24 col1\" >2.000000</td>\n",
       "                        <td id=\"T_354f4_row24_col2\" class=\"data row24 col2\" >0.000000</td>\n",
       "                        <td id=\"T_354f4_row24_col3\" class=\"data row24 col3\" >0.068966</td>\n",
       "            </tr>\n",
       "            <tr>\n",
       "                        <th id=\"T_354f4_level0_row25\" class=\"row_heading level0 row25\" >25</th>\n",
       "                        <td id=\"T_354f4_row25_col0\" class=\"data row25 col0\" >Northern Ireland</td>\n",
       "                        <td id=\"T_354f4_row25_col1\" class=\"data row25 col1\" >2.000000</td>\n",
       "                        <td id=\"T_354f4_row25_col2\" class=\"data row25 col2\" >0.000000</td>\n",
       "                        <td id=\"T_354f4_row25_col3\" class=\"data row25 col3\" >0.068966</td>\n",
       "            </tr>\n",
       "            <tr>\n",
       "                        <th id=\"T_354f4_level0_row26\" class=\"row_heading level0 row26\" >26</th>\n",
       "                        <td id=\"T_354f4_row26_col0\" class=\"data row26 col0\" >Sudan</td>\n",
       "                        <td id=\"T_354f4_row26_col1\" class=\"data row26 col1\" >0.000000</td>\n",
       "                        <td id=\"T_354f4_row26_col2\" class=\"data row26 col2\" >1.000000</td>\n",
       "                        <td id=\"T_354f4_row26_col3\" class=\"data row26 col3\" >0.000000</td>\n",
       "            </tr>\n",
       "            <tr>\n",
       "                        <th id=\"T_354f4_level0_row27\" class=\"row_heading level0 row27\" >27</th>\n",
       "                        <td id=\"T_354f4_row27_col0\" class=\"data row27 col0\" >Bolivia</td>\n",
       "                        <td id=\"T_354f4_row27_col1\" class=\"data row27 col1\" >0.000000</td>\n",
       "                        <td id=\"T_354f4_row27_col2\" class=\"data row27 col2\" >3.000000</td>\n",
       "                        <td id=\"T_354f4_row27_col3\" class=\"data row27 col3\" >0.000000</td>\n",
       "            </tr>\n",
       "            <tr>\n",
       "                        <th id=\"T_354f4_level0_row28\" class=\"row_heading level0 row28\" >28</th>\n",
       "                        <td id=\"T_354f4_row28_col0\" class=\"data row28 col0\" >Iran</td>\n",
       "                        <td id=\"T_354f4_row28_col1\" class=\"data row28 col1\" >0.000000</td>\n",
       "                        <td id=\"T_354f4_row28_col2\" class=\"data row28 col2\" >3.000000</td>\n",
       "                        <td id=\"T_354f4_row28_col3\" class=\"data row28 col3\" >0.000000</td>\n",
       "            </tr>\n",
       "            <tr>\n",
       "                        <th id=\"T_354f4_level0_row29\" class=\"row_heading level0 row29\" >29</th>\n",
       "                        <td id=\"T_354f4_row29_col0\" class=\"data row29 col0\" >Ecuador</td>\n",
       "                        <td id=\"T_354f4_row29_col1\" class=\"data row29 col1\" >0.000000</td>\n",
       "                        <td id=\"T_354f4_row29_col2\" class=\"data row29 col2\" >0.000000</td>\n",
       "                        <td id=\"T_354f4_row29_col3\" class=\"data row29 col3\" >0.000000</td>\n",
       "            </tr>\n",
       "            <tr>\n",
       "                        <th id=\"T_354f4_level0_row30\" class=\"row_heading level0 row30\" >30</th>\n",
       "                        <td id=\"T_354f4_row30_col0\" class=\"data row30 col0\" >Malta</td>\n",
       "                        <td id=\"T_354f4_row30_col1\" class=\"data row30 col1\" >1.000000</td>\n",
       "                        <td id=\"T_354f4_row30_col2\" class=\"data row30 col2\" >0.000000</td>\n",
       "                        <td id=\"T_354f4_row30_col3\" class=\"data row30 col3\" >0.034483</td>\n",
       "            </tr>\n",
       "            <tr>\n",
       "                        <th id=\"T_354f4_level0_row31\" class=\"row_heading level0 row31\" >31</th>\n",
       "                        <td id=\"T_354f4_row31_col0\" class=\"data row31 col0\" >Ireland</td>\n",
       "                        <td id=\"T_354f4_row31_col1\" class=\"data row31 col1\" >6.000000</td>\n",
       "                        <td id=\"T_354f4_row31_col2\" class=\"data row31 col2\" >0.000000</td>\n",
       "                        <td id=\"T_354f4_row31_col3\" class=\"data row31 col3\" >0.206897</td>\n",
       "            </tr>\n",
       "            <tr>\n",
       "                        <th id=\"T_354f4_level0_row32\" class=\"row_heading level0 row32\" >32</th>\n",
       "                        <td id=\"T_354f4_row32_col0\" class=\"data row32 col0\" >Mexico</td>\n",
       "                        <td id=\"T_354f4_row32_col1\" class=\"data row32 col1\" >1.000000</td>\n",
       "                        <td id=\"T_354f4_row32_col2\" class=\"data row32 col2\" >0.000000</td>\n",
       "                        <td id=\"T_354f4_row32_col3\" class=\"data row32 col3\" >0.034483</td>\n",
       "            </tr>\n",
       "            <tr>\n",
       "                        <th id=\"T_354f4_level0_row33\" class=\"row_heading level0 row33\" >33</th>\n",
       "                        <td id=\"T_354f4_row33_col0\" class=\"data row33 col0\" >Pakistan</td>\n",
       "                        <td id=\"T_354f4_row33_col1\" class=\"data row33 col1\" >0.000000</td>\n",
       "                        <td id=\"T_354f4_row33_col2\" class=\"data row33 col2\" >1.000000</td>\n",
       "                        <td id=\"T_354f4_row33_col3\" class=\"data row33 col3\" >0.000000</td>\n",
       "            </tr>\n",
       "            <tr>\n",
       "                        <th id=\"T_354f4_level0_row34\" class=\"row_heading level0 row34\" >34</th>\n",
       "                        <td id=\"T_354f4_row34_col0\" class=\"data row34 col0\" >French Guiana</td>\n",
       "                        <td id=\"T_354f4_row34_col1\" class=\"data row34 col1\" >0.000000</td>\n",
       "                        <td id=\"T_354f4_row34_col2\" class=\"data row34 col2\" >2.000000</td>\n",
       "                        <td id=\"T_354f4_row34_col3\" class=\"data row34 col3\" >0.000000</td>\n",
       "            </tr>\n",
       "            <tr>\n",
       "                        <th id=\"T_354f4_level0_row35\" class=\"row_heading level0 row35\" >35</th>\n",
       "                        <td id=\"T_354f4_row35_col0\" class=\"data row35 col0\" >Thailand</td>\n",
       "                        <td id=\"T_354f4_row35_col1\" class=\"data row35 col1\" >0.000000</td>\n",
       "                        <td id=\"T_354f4_row35_col2\" class=\"data row35 col2\" >0.000000</td>\n",
       "                        <td id=\"T_354f4_row35_col3\" class=\"data row35 col3\" >0.000000</td>\n",
       "            </tr>\n",
       "            <tr>\n",
       "                        <th id=\"T_354f4_level0_row36\" class=\"row_heading level0 row36\" >36</th>\n",
       "                        <td id=\"T_354f4_row36_col0\" class=\"data row36 col0\" >Peru</td>\n",
       "                        <td id=\"T_354f4_row36_col1\" class=\"data row36 col1\" >0.000000</td>\n",
       "                        <td id=\"T_354f4_row36_col2\" class=\"data row36 col2\" >0.000000</td>\n",
       "                        <td id=\"T_354f4_row36_col3\" class=\"data row36 col3\" >0.000000</td>\n",
       "            </tr>\n",
       "            <tr>\n",
       "                        <th id=\"T_354f4_level0_row37\" class=\"row_heading level0 row37\" >37</th>\n",
       "                        <td id=\"T_354f4_row37_col0\" class=\"data row37 col0\" >Brazil</td>\n",
       "                        <td id=\"T_354f4_row37_col1\" class=\"data row37 col1\" >0.000000</td>\n",
       "                        <td id=\"T_354f4_row37_col2\" class=\"data row37 col2\" >4.000000</td>\n",
       "                        <td id=\"T_354f4_row37_col3\" class=\"data row37 col3\" >0.000000</td>\n",
       "            </tr>\n",
       "            <tr>\n",
       "                        <th id=\"T_354f4_level0_row38\" class=\"row_heading level0 row38\" >38</th>\n",
       "                        <td id=\"T_354f4_row38_col0\" class=\"data row38 col0\" >Malaysia</td>\n",
       "                        <td id=\"T_354f4_row38_col1\" class=\"data row38 col1\" >0.000000</td>\n",
       "                        <td id=\"T_354f4_row38_col2\" class=\"data row38 col2\" >0.000000</td>\n",
       "                        <td id=\"T_354f4_row38_col3\" class=\"data row38 col3\" >0.000000</td>\n",
       "            </tr>\n",
       "            <tr>\n",
       "                        <th id=\"T_354f4_level0_row39\" class=\"row_heading level0 row39\" >39</th>\n",
       "                        <td id=\"T_354f4_row39_col0\" class=\"data row39 col0\" >Hungary</td>\n",
       "                        <td id=\"T_354f4_row39_col1\" class=\"data row39 col1\" >1.000000</td>\n",
       "                        <td id=\"T_354f4_row39_col2\" class=\"data row39 col2\" >0.000000</td>\n",
       "                        <td id=\"T_354f4_row39_col3\" class=\"data row39 col3\" >0.034483</td>\n",
       "            </tr>\n",
       "            <tr>\n",
       "                        <th id=\"T_354f4_level0_row40\" class=\"row_heading level0 row40\" >40</th>\n",
       "                        <td id=\"T_354f4_row40_col0\" class=\"data row40 col0\" >Norway</td>\n",
       "                        <td id=\"T_354f4_row40_col1\" class=\"data row40 col1\" >2.000000</td>\n",
       "                        <td id=\"T_354f4_row40_col2\" class=\"data row40 col2\" >0.000000</td>\n",
       "                        <td id=\"T_354f4_row40_col3\" class=\"data row40 col3\" >0.068966</td>\n",
       "            </tr>\n",
       "            <tr>\n",
       "                        <th id=\"T_354f4_level0_row41\" class=\"row_heading level0 row41\" >41</th>\n",
       "                        <td id=\"T_354f4_row41_col0\" class=\"data row41 col0\" >Paraguay</td>\n",
       "                        <td id=\"T_354f4_row41_col1\" class=\"data row41 col1\" >0.000000</td>\n",
       "                        <td id=\"T_354f4_row41_col2\" class=\"data row41 col2\" >1.000000</td>\n",
       "                        <td id=\"T_354f4_row41_col3\" class=\"data row41 col3\" >0.000000</td>\n",
       "            </tr>\n",
       "            <tr>\n",
       "                        <th id=\"T_354f4_level0_row42\" class=\"row_heading level0 row42\" >42</th>\n",
       "                        <td id=\"T_354f4_row42_col0\" class=\"data row42 col0\" >Costa Rica</td>\n",
       "                        <td id=\"T_354f4_row42_col1\" class=\"data row42 col1\" >0.000000</td>\n",
       "                        <td id=\"T_354f4_row42_col2\" class=\"data row42 col2\" >1.000000</td>\n",
       "                        <td id=\"T_354f4_row42_col3\" class=\"data row42 col3\" >0.000000</td>\n",
       "            </tr>\n",
       "            <tr>\n",
       "                        <th id=\"T_354f4_level0_row43\" class=\"row_heading level0 row43\" >43</th>\n",
       "                        <td id=\"T_354f4_row43_col0\" class=\"data row43 col0\" >United Kingdom</td>\n",
       "                        <td id=\"T_354f4_row43_col1\" class=\"data row43 col1\" >1.000000</td>\n",
       "                        <td id=\"T_354f4_row43_col2\" class=\"data row43 col2\" >0.000000</td>\n",
       "                        <td id=\"T_354f4_row43_col3\" class=\"data row43 col3\" >0.034483</td>\n",
       "            </tr>\n",
       "            <tr>\n",
       "                        <th id=\"T_354f4_level0_row44\" class=\"row_heading level0 row44\" >44</th>\n",
       "                        <td id=\"T_354f4_row44_col0\" class=\"data row44 col0\" >Mauritius</td>\n",
       "                        <td id=\"T_354f4_row44_col1\" class=\"data row44 col1\" >0.000000</td>\n",
       "                        <td id=\"T_354f4_row44_col2\" class=\"data row44 col2\" >3.000000</td>\n",
       "                        <td id=\"T_354f4_row44_col3\" class=\"data row44 col3\" >0.000000</td>\n",
       "            </tr>\n",
       "            <tr>\n",
       "                        <th id=\"T_354f4_level0_row45\" class=\"row_heading level0 row45\" >45</th>\n",
       "                        <td id=\"T_354f4_row45_col0\" class=\"data row45 col0\" >Haiti</td>\n",
       "                        <td id=\"T_354f4_row45_col1\" class=\"data row45 col1\" >0.000000</td>\n",
       "                        <td id=\"T_354f4_row45_col2\" class=\"data row45 col2\" >1.000000</td>\n",
       "                        <td id=\"T_354f4_row45_col3\" class=\"data row45 col3\" >0.000000</td>\n",
       "            </tr>\n",
       "            <tr>\n",
       "                        <th id=\"T_354f4_level0_row46\" class=\"row_heading level0 row46\" >46</th>\n",
       "                        <td id=\"T_354f4_row46_col0\" class=\"data row46 col0\" >Uruguay</td>\n",
       "                        <td id=\"T_354f4_row46_col1\" class=\"data row46 col1\" >0.000000</td>\n",
       "                        <td id=\"T_354f4_row46_col2\" class=\"data row46 col2\" >4.000000</td>\n",
       "                        <td id=\"T_354f4_row46_col3\" class=\"data row46 col3\" >0.000000</td>\n",
       "            </tr>\n",
       "            <tr>\n",
       "                        <th id=\"T_354f4_level0_row47\" class=\"row_heading level0 row47\" >47</th>\n",
       "                        <td id=\"T_354f4_row47_col0\" class=\"data row47 col0\" >Latvia</td>\n",
       "                        <td id=\"T_354f4_row47_col1\" class=\"data row47 col1\" >1.000000</td>\n",
       "                        <td id=\"T_354f4_row47_col2\" class=\"data row47 col2\" >0.000000</td>\n",
       "                        <td id=\"T_354f4_row47_col3\" class=\"data row47 col3\" >0.034483</td>\n",
       "            </tr>\n",
       "            <tr>\n",
       "                        <th id=\"T_354f4_level0_row48\" class=\"row_heading level0 row48\" >48</th>\n",
       "                        <td id=\"T_354f4_row48_col0\" class=\"data row48 col0\" >nan</td>\n",
       "                        <td id=\"T_354f4_row48_col1\" class=\"data row48 col1\" >0.000000</td>\n",
       "                        <td id=\"T_354f4_row48_col2\" class=\"data row48 col2\" >0.000000</td>\n",
       "                        <td id=\"T_354f4_row48_col3\" class=\"data row48 col3\" >0.000000</td>\n",
       "            </tr>\n",
       "            <tr>\n",
       "                        <th id=\"T_354f4_level0_row49\" class=\"row_heading level0 row49\" >49</th>\n",
       "                        <td id=\"T_354f4_row49_col0\" class=\"data row49 col0\" >Cayman Islands</td>\n",
       "                        <td id=\"T_354f4_row49_col1\" class=\"data row49 col1\" >0.000000</td>\n",
       "                        <td id=\"T_354f4_row49_col2\" class=\"data row49 col2\" >1.000000</td>\n",
       "                        <td id=\"T_354f4_row49_col3\" class=\"data row49 col3\" >0.000000</td>\n",
       "            </tr>\n",
       "    </tbody></table>"
      ],
      "text/plain": [
       "<pandas.io.formats.style.Styler at 0x7f92b108b8e0>"
      ]
     },
     "execution_count": 9,
     "metadata": {},
     "output_type": "execute_result"
    }
   ],
   "source": [
    "#Take 2 columns from world_cases to join with the country_cases\n",
    "\n",
    "world_cases_sh = world_cases[[\"Country\", \"Confirmed_Cases\", \"Suspected_Cases\"]]\n",
    "country_ccases_sh = country_ccases[[\"Country\", \"Increasing Speed (cases/day)\"]]\n",
    "cases_by_country = pd.merge(world_cases_sh, country_ccases_sh, on=\"Country\", how=\"outer\")\n",
    "cases_by_country[\"Increasing Speed (cases/day)\"] = cases_by_country[\"Increasing Speed (cases/day)\"].fillna(0)\n",
    "cases_by_country.style.background_gradient(axis=0, cmap=\"Blues\")"
   ]
  },
  {
   "cell_type": "code",
   "execution_count": 24,
   "id": "edd673d9-6c73-41c4-a00e-b867bf44d6c2",
   "metadata": {},
   "outputs": [
    {
     "data": {
      "application/vnd.plotly.v1+json": {
       "config": {
        "plotlyServerURL": "https://plot.ly"
       },
       "data": [
        {
         "coloraxis": "coloraxis",
         "geo": "geo",
         "hovertemplate": "<b>%{hovertext}</b><br><br>Country=%{location}<br>Confirmed_Cases=%{z}<extra></extra>",
         "hovertext": [
          "England",
          "Portugal",
          "Spain",
          "United States",
          "Canada",
          "Sweden",
          "Italy",
          "France",
          "Belgium",
          "Australia",
          "Germany",
          "Netherlands",
          "Israel",
          "Switzerland",
          "Greece",
          "Austria",
          "Argentina",
          "Denmark",
          "Morocco",
          "Slovenia",
          "Scotland",
          "Czech Republic",
          "United Arab Emirates",
          "Finland",
          "Wales",
          "Northern Ireland",
          "Sudan",
          "Bolivia",
          "Iran",
          "Ecuador",
          "Malta",
          "Ireland",
          "Mexico",
          "Pakistan",
          "French Guiana",
          "Thailand",
          "Peru",
          "Brazil",
          "Malaysia",
          "Hungary",
          "Norway",
          "Paraguay",
          "Costa Rica",
          "United Kingdom",
          "Mauritius",
          "Haiti",
          "Uruguay",
          "Latvia",
          null,
          "Cayman Islands"
         ],
         "locationmode": "country names",
         "locations": [
          "England",
          "Portugal",
          "Spain",
          "United States",
          "Canada",
          "Sweden",
          "Italy",
          "France",
          "Belgium",
          "Australia",
          "Germany",
          "Netherlands",
          "Israel",
          "Switzerland",
          "Greece",
          "Austria",
          "Argentina",
          "Denmark",
          "Morocco",
          "Slovenia",
          "Scotland",
          "Czech Republic",
          "United Arab Emirates",
          "Finland",
          "Wales",
          "Northern Ireland",
          "Sudan",
          "Bolivia",
          "Iran",
          "Ecuador",
          "Malta",
          "Ireland",
          "Mexico",
          "Pakistan",
          "French Guiana",
          "Thailand",
          "Peru",
          "Brazil",
          "Malaysia",
          "Hungary",
          "Norway",
          "Paraguay",
          "Costa Rica",
          "United Kingdom",
          "Mauritius",
          "Haiti",
          "Uruguay",
          "Latvia",
          null,
          "Cayman Islands"
         ],
         "name": "",
         "type": "choropleth",
         "z": [
          214,
          143,
          189,
          27,
          80,
          5,
          22,
          51,
          17,
          6,
          66,
          40,
          2,
          8,
          0,
          1,
          2,
          2,
          1,
          3,
          8,
          6,
          8,
          2,
          2,
          2,
          0,
          0,
          0,
          0,
          1,
          6,
          1,
          0,
          0,
          0,
          0,
          0,
          0,
          1,
          2,
          0,
          0,
          1,
          0,
          0,
          0,
          1,
          0,
          0
         ]
        }
       ],
       "layout": {
        "coloraxis": {
         "colorbar": {
          "title": {
           "text": "Confirmed_Cases"
          }
         },
         "colorscale": [
          [
           0,
           "#440154"
          ],
          [
           0.1111111111111111,
           "#482878"
          ],
          [
           0.2222222222222222,
           "#3e4989"
          ],
          [
           0.3333333333333333,
           "#31688e"
          ],
          [
           0.4444444444444444,
           "#26828e"
          ],
          [
           0.5555555555555556,
           "#1f9e89"
          ],
          [
           0.6666666666666666,
           "#35b779"
          ],
          [
           0.7777777777777778,
           "#6ece58"
          ],
          [
           0.8888888888888888,
           "#b5de2b"
          ],
          [
           1,
           "#fde725"
          ]
         ]
        },
        "geo": {
         "center": {},
         "domain": {
          "x": [
           0,
           1
          ],
          "y": [
           0,
           1
          ]
         }
        },
        "legend": {
         "tracegroupgap": 0
        },
        "template": {
         "data": {
          "bar": [
           {
            "error_x": {
             "color": "#2a3f5f"
            },
            "error_y": {
             "color": "#2a3f5f"
            },
            "marker": {
             "line": {
              "color": "#E5ECF6",
              "width": 0.5
             },
             "pattern": {
              "fillmode": "overlay",
              "size": 10,
              "solidity": 0.2
             }
            },
            "type": "bar"
           }
          ],
          "barpolar": [
           {
            "marker": {
             "line": {
              "color": "#E5ECF6",
              "width": 0.5
             },
             "pattern": {
              "fillmode": "overlay",
              "size": 10,
              "solidity": 0.2
             }
            },
            "type": "barpolar"
           }
          ],
          "carpet": [
           {
            "aaxis": {
             "endlinecolor": "#2a3f5f",
             "gridcolor": "white",
             "linecolor": "white",
             "minorgridcolor": "white",
             "startlinecolor": "#2a3f5f"
            },
            "baxis": {
             "endlinecolor": "#2a3f5f",
             "gridcolor": "white",
             "linecolor": "white",
             "minorgridcolor": "white",
             "startlinecolor": "#2a3f5f"
            },
            "type": "carpet"
           }
          ],
          "choropleth": [
           {
            "colorbar": {
             "outlinewidth": 0,
             "ticks": ""
            },
            "type": "choropleth"
           }
          ],
          "contour": [
           {
            "colorbar": {
             "outlinewidth": 0,
             "ticks": ""
            },
            "colorscale": [
             [
              0,
              "#0d0887"
             ],
             [
              0.1111111111111111,
              "#46039f"
             ],
             [
              0.2222222222222222,
              "#7201a8"
             ],
             [
              0.3333333333333333,
              "#9c179e"
             ],
             [
              0.4444444444444444,
              "#bd3786"
             ],
             [
              0.5555555555555556,
              "#d8576b"
             ],
             [
              0.6666666666666666,
              "#ed7953"
             ],
             [
              0.7777777777777778,
              "#fb9f3a"
             ],
             [
              0.8888888888888888,
              "#fdca26"
             ],
             [
              1,
              "#f0f921"
             ]
            ],
            "type": "contour"
           }
          ],
          "contourcarpet": [
           {
            "colorbar": {
             "outlinewidth": 0,
             "ticks": ""
            },
            "type": "contourcarpet"
           }
          ],
          "heatmap": [
           {
            "colorbar": {
             "outlinewidth": 0,
             "ticks": ""
            },
            "colorscale": [
             [
              0,
              "#0d0887"
             ],
             [
              0.1111111111111111,
              "#46039f"
             ],
             [
              0.2222222222222222,
              "#7201a8"
             ],
             [
              0.3333333333333333,
              "#9c179e"
             ],
             [
              0.4444444444444444,
              "#bd3786"
             ],
             [
              0.5555555555555556,
              "#d8576b"
             ],
             [
              0.6666666666666666,
              "#ed7953"
             ],
             [
              0.7777777777777778,
              "#fb9f3a"
             ],
             [
              0.8888888888888888,
              "#fdca26"
             ],
             [
              1,
              "#f0f921"
             ]
            ],
            "type": "heatmap"
           }
          ],
          "heatmapgl": [
           {
            "colorbar": {
             "outlinewidth": 0,
             "ticks": ""
            },
            "colorscale": [
             [
              0,
              "#0d0887"
             ],
             [
              0.1111111111111111,
              "#46039f"
             ],
             [
              0.2222222222222222,
              "#7201a8"
             ],
             [
              0.3333333333333333,
              "#9c179e"
             ],
             [
              0.4444444444444444,
              "#bd3786"
             ],
             [
              0.5555555555555556,
              "#d8576b"
             ],
             [
              0.6666666666666666,
              "#ed7953"
             ],
             [
              0.7777777777777778,
              "#fb9f3a"
             ],
             [
              0.8888888888888888,
              "#fdca26"
             ],
             [
              1,
              "#f0f921"
             ]
            ],
            "type": "heatmapgl"
           }
          ],
          "histogram": [
           {
            "marker": {
             "pattern": {
              "fillmode": "overlay",
              "size": 10,
              "solidity": 0.2
             }
            },
            "type": "histogram"
           }
          ],
          "histogram2d": [
           {
            "colorbar": {
             "outlinewidth": 0,
             "ticks": ""
            },
            "colorscale": [
             [
              0,
              "#0d0887"
             ],
             [
              0.1111111111111111,
              "#46039f"
             ],
             [
              0.2222222222222222,
              "#7201a8"
             ],
             [
              0.3333333333333333,
              "#9c179e"
             ],
             [
              0.4444444444444444,
              "#bd3786"
             ],
             [
              0.5555555555555556,
              "#d8576b"
             ],
             [
              0.6666666666666666,
              "#ed7953"
             ],
             [
              0.7777777777777778,
              "#fb9f3a"
             ],
             [
              0.8888888888888888,
              "#fdca26"
             ],
             [
              1,
              "#f0f921"
             ]
            ],
            "type": "histogram2d"
           }
          ],
          "histogram2dcontour": [
           {
            "colorbar": {
             "outlinewidth": 0,
             "ticks": ""
            },
            "colorscale": [
             [
              0,
              "#0d0887"
             ],
             [
              0.1111111111111111,
              "#46039f"
             ],
             [
              0.2222222222222222,
              "#7201a8"
             ],
             [
              0.3333333333333333,
              "#9c179e"
             ],
             [
              0.4444444444444444,
              "#bd3786"
             ],
             [
              0.5555555555555556,
              "#d8576b"
             ],
             [
              0.6666666666666666,
              "#ed7953"
             ],
             [
              0.7777777777777778,
              "#fb9f3a"
             ],
             [
              0.8888888888888888,
              "#fdca26"
             ],
             [
              1,
              "#f0f921"
             ]
            ],
            "type": "histogram2dcontour"
           }
          ],
          "mesh3d": [
           {
            "colorbar": {
             "outlinewidth": 0,
             "ticks": ""
            },
            "type": "mesh3d"
           }
          ],
          "parcoords": [
           {
            "line": {
             "colorbar": {
              "outlinewidth": 0,
              "ticks": ""
             }
            },
            "type": "parcoords"
           }
          ],
          "pie": [
           {
            "automargin": true,
            "type": "pie"
           }
          ],
          "scatter": [
           {
            "fillpattern": {
             "fillmode": "overlay",
             "size": 10,
             "solidity": 0.2
            },
            "type": "scatter"
           }
          ],
          "scatter3d": [
           {
            "line": {
             "colorbar": {
              "outlinewidth": 0,
              "ticks": ""
             }
            },
            "marker": {
             "colorbar": {
              "outlinewidth": 0,
              "ticks": ""
             }
            },
            "type": "scatter3d"
           }
          ],
          "scattercarpet": [
           {
            "marker": {
             "colorbar": {
              "outlinewidth": 0,
              "ticks": ""
             }
            },
            "type": "scattercarpet"
           }
          ],
          "scattergeo": [
           {
            "marker": {
             "colorbar": {
              "outlinewidth": 0,
              "ticks": ""
             }
            },
            "type": "scattergeo"
           }
          ],
          "scattergl": [
           {
            "marker": {
             "colorbar": {
              "outlinewidth": 0,
              "ticks": ""
             }
            },
            "type": "scattergl"
           }
          ],
          "scattermapbox": [
           {
            "marker": {
             "colorbar": {
              "outlinewidth": 0,
              "ticks": ""
             }
            },
            "type": "scattermapbox"
           }
          ],
          "scatterpolar": [
           {
            "marker": {
             "colorbar": {
              "outlinewidth": 0,
              "ticks": ""
             }
            },
            "type": "scatterpolar"
           }
          ],
          "scatterpolargl": [
           {
            "marker": {
             "colorbar": {
              "outlinewidth": 0,
              "ticks": ""
             }
            },
            "type": "scatterpolargl"
           }
          ],
          "scatterternary": [
           {
            "marker": {
             "colorbar": {
              "outlinewidth": 0,
              "ticks": ""
             }
            },
            "type": "scatterternary"
           }
          ],
          "surface": [
           {
            "colorbar": {
             "outlinewidth": 0,
             "ticks": ""
            },
            "colorscale": [
             [
              0,
              "#0d0887"
             ],
             [
              0.1111111111111111,
              "#46039f"
             ],
             [
              0.2222222222222222,
              "#7201a8"
             ],
             [
              0.3333333333333333,
              "#9c179e"
             ],
             [
              0.4444444444444444,
              "#bd3786"
             ],
             [
              0.5555555555555556,
              "#d8576b"
             ],
             [
              0.6666666666666666,
              "#ed7953"
             ],
             [
              0.7777777777777778,
              "#fb9f3a"
             ],
             [
              0.8888888888888888,
              "#fdca26"
             ],
             [
              1,
              "#f0f921"
             ]
            ],
            "type": "surface"
           }
          ],
          "table": [
           {
            "cells": {
             "fill": {
              "color": "#EBF0F8"
             },
             "line": {
              "color": "white"
             }
            },
            "header": {
             "fill": {
              "color": "#C8D4E3"
             },
             "line": {
              "color": "white"
             }
            },
            "type": "table"
           }
          ]
         },
         "layout": {
          "annotationdefaults": {
           "arrowcolor": "#2a3f5f",
           "arrowhead": 0,
           "arrowwidth": 1
          },
          "autotypenumbers": "strict",
          "coloraxis": {
           "colorbar": {
            "outlinewidth": 0,
            "ticks": ""
           }
          },
          "colorscale": {
           "diverging": [
            [
             0,
             "#8e0152"
            ],
            [
             0.1,
             "#c51b7d"
            ],
            [
             0.2,
             "#de77ae"
            ],
            [
             0.3,
             "#f1b6da"
            ],
            [
             0.4,
             "#fde0ef"
            ],
            [
             0.5,
             "#f7f7f7"
            ],
            [
             0.6,
             "#e6f5d0"
            ],
            [
             0.7,
             "#b8e186"
            ],
            [
             0.8,
             "#7fbc41"
            ],
            [
             0.9,
             "#4d9221"
            ],
            [
             1,
             "#276419"
            ]
           ],
           "sequential": [
            [
             0,
             "#0d0887"
            ],
            [
             0.1111111111111111,
             "#46039f"
            ],
            [
             0.2222222222222222,
             "#7201a8"
            ],
            [
             0.3333333333333333,
             "#9c179e"
            ],
            [
             0.4444444444444444,
             "#bd3786"
            ],
            [
             0.5555555555555556,
             "#d8576b"
            ],
            [
             0.6666666666666666,
             "#ed7953"
            ],
            [
             0.7777777777777778,
             "#fb9f3a"
            ],
            [
             0.8888888888888888,
             "#fdca26"
            ],
            [
             1,
             "#f0f921"
            ]
           ],
           "sequentialminus": [
            [
             0,
             "#0d0887"
            ],
            [
             0.1111111111111111,
             "#46039f"
            ],
            [
             0.2222222222222222,
             "#7201a8"
            ],
            [
             0.3333333333333333,
             "#9c179e"
            ],
            [
             0.4444444444444444,
             "#bd3786"
            ],
            [
             0.5555555555555556,
             "#d8576b"
            ],
            [
             0.6666666666666666,
             "#ed7953"
            ],
            [
             0.7777777777777778,
             "#fb9f3a"
            ],
            [
             0.8888888888888888,
             "#fdca26"
            ],
            [
             1,
             "#f0f921"
            ]
           ]
          },
          "colorway": [
           "#636efa",
           "#EF553B",
           "#00cc96",
           "#ab63fa",
           "#FFA15A",
           "#19d3f3",
           "#FF6692",
           "#B6E880",
           "#FF97FF",
           "#FECB52"
          ],
          "font": {
           "color": "#2a3f5f"
          },
          "geo": {
           "bgcolor": "white",
           "lakecolor": "white",
           "landcolor": "#E5ECF6",
           "showlakes": true,
           "showland": true,
           "subunitcolor": "white"
          },
          "hoverlabel": {
           "align": "left"
          },
          "hovermode": "closest",
          "mapbox": {
           "style": "light"
          },
          "paper_bgcolor": "white",
          "plot_bgcolor": "#E5ECF6",
          "polar": {
           "angularaxis": {
            "gridcolor": "white",
            "linecolor": "white",
            "ticks": ""
           },
           "bgcolor": "#E5ECF6",
           "radialaxis": {
            "gridcolor": "white",
            "linecolor": "white",
            "ticks": ""
           }
          },
          "scene": {
           "xaxis": {
            "backgroundcolor": "#E5ECF6",
            "gridcolor": "white",
            "gridwidth": 2,
            "linecolor": "white",
            "showbackground": true,
            "ticks": "",
            "zerolinecolor": "white"
           },
           "yaxis": {
            "backgroundcolor": "#E5ECF6",
            "gridcolor": "white",
            "gridwidth": 2,
            "linecolor": "white",
            "showbackground": true,
            "ticks": "",
            "zerolinecolor": "white"
           },
           "zaxis": {
            "backgroundcolor": "#E5ECF6",
            "gridcolor": "white",
            "gridwidth": 2,
            "linecolor": "white",
            "showbackground": true,
            "ticks": "",
            "zerolinecolor": "white"
           }
          },
          "shapedefaults": {
           "line": {
            "color": "#2a3f5f"
           }
          },
          "ternary": {
           "aaxis": {
            "gridcolor": "white",
            "linecolor": "white",
            "ticks": ""
           },
           "baxis": {
            "gridcolor": "white",
            "linecolor": "white",
            "ticks": ""
           },
           "bgcolor": "#E5ECF6",
           "caxis": {
            "gridcolor": "white",
            "linecolor": "white",
            "ticks": ""
           }
          },
          "title": {
           "x": 0.05
          },
          "xaxis": {
           "automargin": true,
           "gridcolor": "white",
           "linecolor": "white",
           "ticks": "",
           "title": {
            "standoff": 15
           },
           "zerolinecolor": "white",
           "zerolinewidth": 2
          },
          "yaxis": {
           "automargin": true,
           "gridcolor": "white",
           "linecolor": "white",
           "ticks": "",
           "title": {
            "standoff": 15
           },
           "zerolinecolor": "white",
           "zerolinewidth": 2
          }
         }
        },
        "title": {
         "text": "Monkeypox confirmed cases in the world"
        }
       }
      },
      "text/html": [
       "<div>                            <div id=\"a856a50a-2189-4f78-b21f-8cacecedc7da\" class=\"plotly-graph-div\" style=\"height:525px; width:100%;\"></div>            <script type=\"text/javascript\">                require([\"plotly\"], function(Plotly) {                    window.PLOTLYENV=window.PLOTLYENV || {};                                    if (document.getElementById(\"a856a50a-2189-4f78-b21f-8cacecedc7da\")) {                    Plotly.newPlot(                        \"a856a50a-2189-4f78-b21f-8cacecedc7da\",                        [{\"coloraxis\":\"coloraxis\",\"geo\":\"geo\",\"hovertemplate\":\"<b>%{hovertext}</b><br><br>Country=%{location}<br>Confirmed_Cases=%{z}<extra></extra>\",\"hovertext\":[\"England\",\"Portugal\",\"Spain\",\"United States\",\"Canada\",\"Sweden\",\"Italy\",\"France\",\"Belgium\",\"Australia\",\"Germany\",\"Netherlands\",\"Israel\",\"Switzerland\",\"Greece\",\"Austria\",\"Argentina\",\"Denmark\",\"Morocco\",\"Slovenia\",\"Scotland\",\"Czech Republic\",\"United Arab Emirates\",\"Finland\",\"Wales\",\"Northern Ireland\",\"Sudan\",\"Bolivia\",\"Iran\",\"Ecuador\",\"Malta\",\"Ireland\",\"Mexico\",\"Pakistan\",\"French Guiana\",\"Thailand\",\"Peru\",\"Brazil\",\"Malaysia\",\"Hungary\",\"Norway\",\"Paraguay\",\"Costa Rica\",\"United Kingdom\",\"Mauritius\",\"Haiti\",\"Uruguay\",\"Latvia\",null,\"Cayman Islands\"],\"locationmode\":\"country names\",\"locations\":[\"England\",\"Portugal\",\"Spain\",\"United States\",\"Canada\",\"Sweden\",\"Italy\",\"France\",\"Belgium\",\"Australia\",\"Germany\",\"Netherlands\",\"Israel\",\"Switzerland\",\"Greece\",\"Austria\",\"Argentina\",\"Denmark\",\"Morocco\",\"Slovenia\",\"Scotland\",\"Czech Republic\",\"United Arab Emirates\",\"Finland\",\"Wales\",\"Northern Ireland\",\"Sudan\",\"Bolivia\",\"Iran\",\"Ecuador\",\"Malta\",\"Ireland\",\"Mexico\",\"Pakistan\",\"French Guiana\",\"Thailand\",\"Peru\",\"Brazil\",\"Malaysia\",\"Hungary\",\"Norway\",\"Paraguay\",\"Costa Rica\",\"United Kingdom\",\"Mauritius\",\"Haiti\",\"Uruguay\",\"Latvia\",null,\"Cayman Islands\"],\"name\":\"\",\"z\":[214.0,143.0,189.0,27.0,80.0,5.0,22.0,51.0,17.0,6.0,66.0,40.0,2.0,8.0,0.0,1.0,2.0,2.0,1.0,3.0,8.0,6.0,8.0,2.0,2.0,2.0,0.0,0.0,0.0,0.0,1.0,6.0,1.0,0.0,0.0,0.0,0.0,0.0,0.0,1.0,2.0,0.0,0.0,1.0,0.0,0.0,0.0,1.0,0.0,0.0],\"type\":\"choropleth\"}],                        {\"template\":{\"data\":{\"histogram2dcontour\":[{\"type\":\"histogram2dcontour\",\"colorbar\":{\"outlinewidth\":0,\"ticks\":\"\"},\"colorscale\":[[0.0,\"#0d0887\"],[0.1111111111111111,\"#46039f\"],[0.2222222222222222,\"#7201a8\"],[0.3333333333333333,\"#9c179e\"],[0.4444444444444444,\"#bd3786\"],[0.5555555555555556,\"#d8576b\"],[0.6666666666666666,\"#ed7953\"],[0.7777777777777778,\"#fb9f3a\"],[0.8888888888888888,\"#fdca26\"],[1.0,\"#f0f921\"]]}],\"choropleth\":[{\"type\":\"choropleth\",\"colorbar\":{\"outlinewidth\":0,\"ticks\":\"\"}}],\"histogram2d\":[{\"type\":\"histogram2d\",\"colorbar\":{\"outlinewidth\":0,\"ticks\":\"\"},\"colorscale\":[[0.0,\"#0d0887\"],[0.1111111111111111,\"#46039f\"],[0.2222222222222222,\"#7201a8\"],[0.3333333333333333,\"#9c179e\"],[0.4444444444444444,\"#bd3786\"],[0.5555555555555556,\"#d8576b\"],[0.6666666666666666,\"#ed7953\"],[0.7777777777777778,\"#fb9f3a\"],[0.8888888888888888,\"#fdca26\"],[1.0,\"#f0f921\"]]}],\"heatmap\":[{\"type\":\"heatmap\",\"colorbar\":{\"outlinewidth\":0,\"ticks\":\"\"},\"colorscale\":[[0.0,\"#0d0887\"],[0.1111111111111111,\"#46039f\"],[0.2222222222222222,\"#7201a8\"],[0.3333333333333333,\"#9c179e\"],[0.4444444444444444,\"#bd3786\"],[0.5555555555555556,\"#d8576b\"],[0.6666666666666666,\"#ed7953\"],[0.7777777777777778,\"#fb9f3a\"],[0.8888888888888888,\"#fdca26\"],[1.0,\"#f0f921\"]]}],\"heatmapgl\":[{\"type\":\"heatmapgl\",\"colorbar\":{\"outlinewidth\":0,\"ticks\":\"\"},\"colorscale\":[[0.0,\"#0d0887\"],[0.1111111111111111,\"#46039f\"],[0.2222222222222222,\"#7201a8\"],[0.3333333333333333,\"#9c179e\"],[0.4444444444444444,\"#bd3786\"],[0.5555555555555556,\"#d8576b\"],[0.6666666666666666,\"#ed7953\"],[0.7777777777777778,\"#fb9f3a\"],[0.8888888888888888,\"#fdca26\"],[1.0,\"#f0f921\"]]}],\"contourcarpet\":[{\"type\":\"contourcarpet\",\"colorbar\":{\"outlinewidth\":0,\"ticks\":\"\"}}],\"contour\":[{\"type\":\"contour\",\"colorbar\":{\"outlinewidth\":0,\"ticks\":\"\"},\"colorscale\":[[0.0,\"#0d0887\"],[0.1111111111111111,\"#46039f\"],[0.2222222222222222,\"#7201a8\"],[0.3333333333333333,\"#9c179e\"],[0.4444444444444444,\"#bd3786\"],[0.5555555555555556,\"#d8576b\"],[0.6666666666666666,\"#ed7953\"],[0.7777777777777778,\"#fb9f3a\"],[0.8888888888888888,\"#fdca26\"],[1.0,\"#f0f921\"]]}],\"surface\":[{\"type\":\"surface\",\"colorbar\":{\"outlinewidth\":0,\"ticks\":\"\"},\"colorscale\":[[0.0,\"#0d0887\"],[0.1111111111111111,\"#46039f\"],[0.2222222222222222,\"#7201a8\"],[0.3333333333333333,\"#9c179e\"],[0.4444444444444444,\"#bd3786\"],[0.5555555555555556,\"#d8576b\"],[0.6666666666666666,\"#ed7953\"],[0.7777777777777778,\"#fb9f3a\"],[0.8888888888888888,\"#fdca26\"],[1.0,\"#f0f921\"]]}],\"mesh3d\":[{\"type\":\"mesh3d\",\"colorbar\":{\"outlinewidth\":0,\"ticks\":\"\"}}],\"scatter\":[{\"fillpattern\":{\"fillmode\":\"overlay\",\"size\":10,\"solidity\":0.2},\"type\":\"scatter\"}],\"parcoords\":[{\"type\":\"parcoords\",\"line\":{\"colorbar\":{\"outlinewidth\":0,\"ticks\":\"\"}}}],\"scatterpolargl\":[{\"type\":\"scatterpolargl\",\"marker\":{\"colorbar\":{\"outlinewidth\":0,\"ticks\":\"\"}}}],\"bar\":[{\"error_x\":{\"color\":\"#2a3f5f\"},\"error_y\":{\"color\":\"#2a3f5f\"},\"marker\":{\"line\":{\"color\":\"#E5ECF6\",\"width\":0.5},\"pattern\":{\"fillmode\":\"overlay\",\"size\":10,\"solidity\":0.2}},\"type\":\"bar\"}],\"scattergeo\":[{\"type\":\"scattergeo\",\"marker\":{\"colorbar\":{\"outlinewidth\":0,\"ticks\":\"\"}}}],\"scatterpolar\":[{\"type\":\"scatterpolar\",\"marker\":{\"colorbar\":{\"outlinewidth\":0,\"ticks\":\"\"}}}],\"histogram\":[{\"marker\":{\"pattern\":{\"fillmode\":\"overlay\",\"size\":10,\"solidity\":0.2}},\"type\":\"histogram\"}],\"scattergl\":[{\"type\":\"scattergl\",\"marker\":{\"colorbar\":{\"outlinewidth\":0,\"ticks\":\"\"}}}],\"scatter3d\":[{\"type\":\"scatter3d\",\"line\":{\"colorbar\":{\"outlinewidth\":0,\"ticks\":\"\"}},\"marker\":{\"colorbar\":{\"outlinewidth\":0,\"ticks\":\"\"}}}],\"scattermapbox\":[{\"type\":\"scattermapbox\",\"marker\":{\"colorbar\":{\"outlinewidth\":0,\"ticks\":\"\"}}}],\"scatterternary\":[{\"type\":\"scatterternary\",\"marker\":{\"colorbar\":{\"outlinewidth\":0,\"ticks\":\"\"}}}],\"scattercarpet\":[{\"type\":\"scattercarpet\",\"marker\":{\"colorbar\":{\"outlinewidth\":0,\"ticks\":\"\"}}}],\"carpet\":[{\"aaxis\":{\"endlinecolor\":\"#2a3f5f\",\"gridcolor\":\"white\",\"linecolor\":\"white\",\"minorgridcolor\":\"white\",\"startlinecolor\":\"#2a3f5f\"},\"baxis\":{\"endlinecolor\":\"#2a3f5f\",\"gridcolor\":\"white\",\"linecolor\":\"white\",\"minorgridcolor\":\"white\",\"startlinecolor\":\"#2a3f5f\"},\"type\":\"carpet\"}],\"table\":[{\"cells\":{\"fill\":{\"color\":\"#EBF0F8\"},\"line\":{\"color\":\"white\"}},\"header\":{\"fill\":{\"color\":\"#C8D4E3\"},\"line\":{\"color\":\"white\"}},\"type\":\"table\"}],\"barpolar\":[{\"marker\":{\"line\":{\"color\":\"#E5ECF6\",\"width\":0.5},\"pattern\":{\"fillmode\":\"overlay\",\"size\":10,\"solidity\":0.2}},\"type\":\"barpolar\"}],\"pie\":[{\"automargin\":true,\"type\":\"pie\"}]},\"layout\":{\"autotypenumbers\":\"strict\",\"colorway\":[\"#636efa\",\"#EF553B\",\"#00cc96\",\"#ab63fa\",\"#FFA15A\",\"#19d3f3\",\"#FF6692\",\"#B6E880\",\"#FF97FF\",\"#FECB52\"],\"font\":{\"color\":\"#2a3f5f\"},\"hovermode\":\"closest\",\"hoverlabel\":{\"align\":\"left\"},\"paper_bgcolor\":\"white\",\"plot_bgcolor\":\"#E5ECF6\",\"polar\":{\"bgcolor\":\"#E5ECF6\",\"angularaxis\":{\"gridcolor\":\"white\",\"linecolor\":\"white\",\"ticks\":\"\"},\"radialaxis\":{\"gridcolor\":\"white\",\"linecolor\":\"white\",\"ticks\":\"\"}},\"ternary\":{\"bgcolor\":\"#E5ECF6\",\"aaxis\":{\"gridcolor\":\"white\",\"linecolor\":\"white\",\"ticks\":\"\"},\"baxis\":{\"gridcolor\":\"white\",\"linecolor\":\"white\",\"ticks\":\"\"},\"caxis\":{\"gridcolor\":\"white\",\"linecolor\":\"white\",\"ticks\":\"\"}},\"coloraxis\":{\"colorbar\":{\"outlinewidth\":0,\"ticks\":\"\"}},\"colorscale\":{\"sequential\":[[0.0,\"#0d0887\"],[0.1111111111111111,\"#46039f\"],[0.2222222222222222,\"#7201a8\"],[0.3333333333333333,\"#9c179e\"],[0.4444444444444444,\"#bd3786\"],[0.5555555555555556,\"#d8576b\"],[0.6666666666666666,\"#ed7953\"],[0.7777777777777778,\"#fb9f3a\"],[0.8888888888888888,\"#fdca26\"],[1.0,\"#f0f921\"]],\"sequentialminus\":[[0.0,\"#0d0887\"],[0.1111111111111111,\"#46039f\"],[0.2222222222222222,\"#7201a8\"],[0.3333333333333333,\"#9c179e\"],[0.4444444444444444,\"#bd3786\"],[0.5555555555555556,\"#d8576b\"],[0.6666666666666666,\"#ed7953\"],[0.7777777777777778,\"#fb9f3a\"],[0.8888888888888888,\"#fdca26\"],[1.0,\"#f0f921\"]],\"diverging\":[[0,\"#8e0152\"],[0.1,\"#c51b7d\"],[0.2,\"#de77ae\"],[0.3,\"#f1b6da\"],[0.4,\"#fde0ef\"],[0.5,\"#f7f7f7\"],[0.6,\"#e6f5d0\"],[0.7,\"#b8e186\"],[0.8,\"#7fbc41\"],[0.9,\"#4d9221\"],[1,\"#276419\"]]},\"xaxis\":{\"gridcolor\":\"white\",\"linecolor\":\"white\",\"ticks\":\"\",\"title\":{\"standoff\":15},\"zerolinecolor\":\"white\",\"automargin\":true,\"zerolinewidth\":2},\"yaxis\":{\"gridcolor\":\"white\",\"linecolor\":\"white\",\"ticks\":\"\",\"title\":{\"standoff\":15},\"zerolinecolor\":\"white\",\"automargin\":true,\"zerolinewidth\":2},\"scene\":{\"xaxis\":{\"backgroundcolor\":\"#E5ECF6\",\"gridcolor\":\"white\",\"linecolor\":\"white\",\"showbackground\":true,\"ticks\":\"\",\"zerolinecolor\":\"white\",\"gridwidth\":2},\"yaxis\":{\"backgroundcolor\":\"#E5ECF6\",\"gridcolor\":\"white\",\"linecolor\":\"white\",\"showbackground\":true,\"ticks\":\"\",\"zerolinecolor\":\"white\",\"gridwidth\":2},\"zaxis\":{\"backgroundcolor\":\"#E5ECF6\",\"gridcolor\":\"white\",\"linecolor\":\"white\",\"showbackground\":true,\"ticks\":\"\",\"zerolinecolor\":\"white\",\"gridwidth\":2}},\"shapedefaults\":{\"line\":{\"color\":\"#2a3f5f\"}},\"annotationdefaults\":{\"arrowcolor\":\"#2a3f5f\",\"arrowhead\":0,\"arrowwidth\":1},\"geo\":{\"bgcolor\":\"white\",\"landcolor\":\"#E5ECF6\",\"subunitcolor\":\"white\",\"showland\":true,\"showlakes\":true,\"lakecolor\":\"white\"},\"title\":{\"x\":0.05},\"mapbox\":{\"style\":\"light\"}}},\"geo\":{\"domain\":{\"x\":[0.0,1.0],\"y\":[0.0,1.0]},\"center\":{}},\"coloraxis\":{\"colorbar\":{\"title\":{\"text\":\"Confirmed_Cases\"}},\"colorscale\":[[0.0,\"#440154\"],[0.1111111111111111,\"#482878\"],[0.2222222222222222,\"#3e4989\"],[0.3333333333333333,\"#31688e\"],[0.4444444444444444,\"#26828e\"],[0.5555555555555556,\"#1f9e89\"],[0.6666666666666666,\"#35b779\"],[0.7777777777777778,\"#6ece58\"],[0.8888888888888888,\"#b5de2b\"],[1.0,\"#fde725\"]]},\"legend\":{\"tracegroupgap\":0},\"title\":{\"text\":\"Monkeypox confirmed cases in the world\"}},                        {\"responsive\": true}                    ).then(function(){\n",
       "                            \n",
       "var gd = document.getElementById('a856a50a-2189-4f78-b21f-8cacecedc7da');\n",
       "var x = new MutationObserver(function (mutations, observer) {{\n",
       "        var display = window.getComputedStyle(gd).display;\n",
       "        if (!display || display === 'none') {{\n",
       "            console.log([gd, 'removed!']);\n",
       "            Plotly.purge(gd);\n",
       "            observer.disconnect();\n",
       "        }}\n",
       "}});\n",
       "\n",
       "// Listen for the removal of the full notebook cells\n",
       "var notebookContainer = gd.closest('#notebook-container');\n",
       "if (notebookContainer) {{\n",
       "    x.observe(notebookContainer, {childList: true});\n",
       "}}\n",
       "\n",
       "// Listen for the clearing of the current output cell\n",
       "var outputEl = gd.closest('.output');\n",
       "if (outputEl) {{\n",
       "    x.observe(outputEl, {childList: true});\n",
       "}}\n",
       "\n",
       "                        })                };                });            </script>        </div>"
      ]
     },
     "metadata": {},
     "output_type": "display_data"
    }
   ],
   "source": [
    "#Confirmed cases on world map\n",
    "fig = px.choropleth(cases_by_country, locations= \"Country\", locationmode=\"country names\",color=\"Confirmed_Cases\",\n",
    "                   hover_name = \"Country\",color_continuous_scale = px.colors.sequential.Viridis, title = \"Monkeypox confirmed cases in the world\")\n",
    "fig.show()"
   ]
  },
  {
   "cell_type": "code",
   "execution_count": null,
   "id": "f472e40b-db64-4150-8c79-a663d7ff5416",
   "metadata": {},
   "outputs": [],
   "source": [
    "# Define a function for Top 10 countries with the highest cases in different senarios\n",
    "def top10s (column=None):\n",
    "    cases_sorted = cases_by_country.sort_values(by=col, ascending=False)\n",
    "    top10 = cases_sorted[:10]\n",
    "    fig = px.bar(top10, x=\"Country\", y=col, color=col,\n",
    "                title=f'Top 10 Countries in {col}')\n",
    "    fig.show()"
   ]
  },
  {
   "cell_type": "code",
   "execution_count": null,
   "id": "d502747c-9a97-49da-8d13-c3a9b776e0c2",
   "metadata": {},
   "outputs": [],
   "source": []
  },
  {
   "cell_type": "code",
   "execution_count": null,
   "id": "06b25907-1a11-4fad-af22-4a3ddbef2c7c",
   "metadata": {},
   "outputs": [],
   "source": []
  }
 ],
 "metadata": {
  "kernelspec": {
   "display_name": "Python 3",
   "language": "python",
   "name": "python3"
  },
  "language_info": {
   "codemirror_mode": {
    "name": "ipython",
    "version": 3
   },
   "file_extension": ".py",
   "mimetype": "text/x-python",
   "name": "python",
   "nbconvert_exporter": "python",
   "pygments_lexer": "ipython3",
   "version": "3.8.8"
  }
 },
 "nbformat": 4,
 "nbformat_minor": 5
}
